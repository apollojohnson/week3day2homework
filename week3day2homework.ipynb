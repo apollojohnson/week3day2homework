{
 "cells": [
  {
   "cell_type": "markdown",
   "metadata": {},
   "source": [
    "### Exercise #1 <br>\n",
    "<p>Reverse the list below in-place using an in-place algorithm.<br>For extra credit: Reverse the strings at the same time.</p>"
   ]
  },
  {
   "cell_type": "code",
   "execution_count": 54,
   "metadata": {},
   "outputs": [
    {
     "name": "stdout",
     "output_type": "stream",
     "text": [
      "['.', 'sentence', 'a', 'is', 'this']\n"
     ]
    }
   ],
   "source": [
    "words = ['this' , 'is', 'a', 'sentence', '.']\n",
    "\n",
    "def reverse(newlist, a, b, c, d, e):\n",
    "    newlist[a], newlist[b], newlist[d], newlist[e] = newlist[e], newlist[d], newlist[b], newlist[a]\n",
    "    return newlist\n",
    "\n",
    "print(reverse(words, 0,1,2,3,4))\n",
    "\n",
    "# def reverse_str(str_list, f, g, h, i, j):\n",
    "#     str[f], str[g], str[h], str[i], str[j] = str[j], str[i], str[h], str[g], str[f]\n",
    "#     return str_list\n",
    "# print(reverse_str(words, 0,1,2,3,4))\n",
    "\n",
    "##cant figure out how to reverse each letter without inputing every single letter"
   ]
  },
  {
   "cell_type": "markdown",
   "metadata": {},
   "source": [
    "### Exercise #2 <br>\n",
    "<p>Create a function that counts how many distinct words are in the string below, then outputs a dictionary with the words as the key and the value as the amount of times that word appears in the string.<br>Should output:<br>{'a': 5,<br>\n",
    " 'abstract': 1,<br>\n",
    " 'an': 3,<br>\n",
    " 'array': 2, ... etc...</p>\n"
   ]
  },
  {
   "cell_type": "code",
   "execution_count": 55,
   "metadata": {},
   "outputs": [
    {
     "name": "stdout",
     "output_type": "stream",
     "text": [
      "{'a': 5,\n",
      " 'abstract': 1,\n",
      " 'an': 3,\n",
      " 'array': 2,\n",
      " 'associative': 1,\n",
      " 'be': 1,\n",
      " 'buckets': 1,\n",
      " 'can': 2,\n",
      " 'compute': 1,\n",
      " 'computing,': 1,\n",
      " 'data': 2,\n",
      " 'desired': 1,\n",
      " 'found': 1,\n",
      " 'from': 1,\n",
      " 'function': 1,\n",
      " 'hash': 4,\n",
      " 'implements': 1,\n",
      " 'in': 1,\n",
      " 'index': 1,\n",
      " 'into': 1,\n",
      " 'is': 1,\n",
      " 'keys': 1,\n",
      " 'map': 2,\n",
      " 'of': 1,\n",
      " 'or': 1,\n",
      " 'slots': 1,\n",
      " 'structure': 2,\n",
      " 'table': 2,\n",
      " 'that': 1,\n",
      " 'the': 1,\n",
      " 'to': 2,\n",
      " 'type,': 1,\n",
      " 'uses': 1,\n",
      " 'value': 1,\n",
      " 'values.': 1,\n",
      " 'which': 2}\n"
     ]
    }
   ],
   "source": [
    "# to print things nicely:\n",
    "import pprint\n",
    "\n",
    "a_text = \"In computing, a hash table hash map is a data structure which implements an associative array abstract data type, a structure that can map keys to values. A hash table uses a hash function to compute an index into an array of buckets or slots from which the desired value can be found\"\n",
    "\n",
    "#lowercase the str, then split str into seperate words\n",
    "allwordslower = a_text.lower()\n",
    "allwords = allwordslower.split()\n",
    "\n",
    "# function wordsnums, by using allwords\n",
    "def wordnums(allwords):\n",
    "    # make empty dictionary\n",
    "    worddict = {}\n",
    "    # for each word in allwords...\n",
    "    for word in allwords:\n",
    "        # if the word isn't already in the dictionary...\n",
    "        if word not in worddict:\n",
    "            # add it to the dictionary with the value of one (as it's only appeared once)\n",
    "            worddict[word] = 1\n",
    "        # if it IS already in the dictionary...\n",
    "        else:\n",
    "            # add 1 to the value of the word(the key)\n",
    "            worddict[word] += 1\n",
    "    # to make it work,\n",
    "    return worddict\n",
    "\n",
    "# print it nicely on each line\n",
    "pprint.pprint(wordnums(allwords))"
   ]
  },
  {
   "cell_type": "markdown",
   "metadata": {},
   "source": [
    "## Exercise #3\n",
    "\n",
    "Write a program to implement a Linear Search Algorithm. Also in a comment, write the Time Complexity of the following algorithm.\n",
    "\n",
    "#### Hint: Linear Searching will require searching a list for a given number. "
   ]
  },
  {
   "cell_type": "code",
   "execution_count": 95,
   "metadata": {},
   "outputs": [
    {
     "name": "stdout",
     "output_type": "stream",
     "text": [
      "What number are you looking for? 3\n",
      "The number you're looking for is at index 9 .\n"
     ]
    }
   ],
   "source": [
    "thislist = [1, 5, 72, 45, 2, 9, 14, 23, 7, 3, 45, 78, 24, 254, 7, 32, 8, 2534, 784, 23, 12, 7, 3245, 5648, 1, 12, 5, 3, 7, 12, 56, 12, 3]\n",
    "\n",
    "def search(thislist, n, x):\n",
    "    for i in range(0, n):\n",
    "        if thislist[i] == x:\n",
    "            return i\n",
    "    return -1\n",
    "\n",
    "x = int(input(\"What number are you looking for? \"))\n",
    "n = len(thislist)\n",
    "\n",
    "idx = search(thislist, n, x)\n",
    "if(result == -1):\n",
    "    print(\"The number you're looking for is not in the list.\")\n",
    "else:\n",
    "    print(\"The number you're looking for is at index\", idx, \".\")"
   ]
  },
  {
   "cell_type": "code",
   "execution_count": null,
   "metadata": {},
   "outputs": [],
   "source": []
  }
 ],
 "metadata": {
  "kernelspec": {
   "display_name": "Python 3",
   "language": "python",
   "name": "python3"
  },
  "language_info": {
   "codemirror_mode": {
    "name": "ipython",
    "version": 3
   },
   "file_extension": ".py",
   "mimetype": "text/x-python",
   "name": "python",
   "nbconvert_exporter": "python",
   "pygments_lexer": "ipython3",
   "version": "3.8.5"
  }
 },
 "nbformat": 4,
 "nbformat_minor": 4
}
